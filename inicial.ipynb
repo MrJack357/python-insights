{
 "cells": [
  {
   "cell_type": "markdown",
   "metadata": {},
   "source": [
    "# Python Insights - Analisando Dados com Python\n",
    "\n",
    "### Case - Cancelamento de Clientes\n",
    "\n",
    "Você foi contratado por uma empresa com mais de 800 mil clientes para um projeto de Dados. Recentemente a empresa percebeu que da sua base total de clientes, a maioria são clientes inativos, ou seja, que já cancelaram o serviço.\n",
    "\n",
    "Precisando melhorar seus resultados ela quer conseguir entender os principais motivos desses cancelamentos e quais as ações mais eficientes para reduzir esse número.\n",
    "\n",
    "Base de dados e arquivos: https://drive.google.com/drive/folders/1uDesZePdkhiraJmiyeZ-w5tfc8XsNYFZ?usp=drive_link"
   ]
  },
  {
   "cell_type": "code",
   "execution_count": null,
   "metadata": {},
   "outputs": [],
   "source": [
    "# instalar as bibliotecas\n",
    "# !pip install pandas numpy openpyxl nbformat ipykernel plotly\n",
    "\n",
    "# passo a passo\n",
    "# 1 . importar base de dados\n",
    "import pandas as pd\n",
    "\n",
    "tabela = pd.read_csv(\"cancelamentos.csv\")\n",
    "\n",
    "\n",
    "\n",
    "# 2 . visualizar a base de dados para entender o que tem nela + identificar problemas\n",
    "\n",
    "# informaçoes que nao te ajudam te atrapalham\n",
    "\n",
    "tabela = tabela.drop(columns=\"CustomerID\")\n",
    "display(tabela)\n"
   ]
  },
  {
   "cell_type": "code",
   "execution_count": null,
   "metadata": {},
   "outputs": [],
   "source": [
    "# 3 . tratamento da base de dados\n",
    "# - valores que estão vazios\n",
    "display(tabela.info())\n",
    "\n",
    "tabela = tabela.dropna()\n",
    "\n",
    "display(tabela.info())"
   ]
  },
  {
   "cell_type": "code",
   "execution_count": null,
   "metadata": {},
   "outputs": [],
   "source": [
    "# 4 . analise de dados inicial => quantos clientes cancelaram o servico? e qual a porcentagem de cancelamento de clientes?\n",
    "\n",
    "display(tabela[\"cancelou\"].value_counts())\n",
    "\n",
    "display(tabela[\"cancelou\"].value_counts(normalize=True))\n",
    "\n",
    "\n",
    "\n"
   ]
  },
  {
   "cell_type": "code",
   "execution_count": null,
   "metadata": {},
   "outputs": [],
   "source": [
    "# 5 . analise de causa dos cancelamentos dos clientes\n",
    "# (compararas outras colunas da tabela com a coluna de cancelamento)\n",
    "\n",
    "import plotly.express as px\n",
    "\n",
    "#for item in lista:\n",
    "    # todos os codigos aqui dentro\n",
    "    # serao executados para cada item na lista\n",
    "\n",
    "for coluna in tabela.columns:\n",
    "    \n",
    "    #Criar grafico\n",
    "    grafico = px.histogram(tabela, x=coluna, color=\"cancelou\", text_auto=True)\n",
    "\n",
    "    # exibir grafico\n",
    "\n",
    "    grafico.show()"
   ]
  },
  {
   "cell_type": "code",
   "execution_count": null,
   "metadata": {},
   "outputs": [],
   "source": [
    "# usuarios do contrato mensal cancelam sempre\n",
    "    # evitar o contrato mensal e incentivar com descontos os contratos anuais e trimestrais\n",
    "\n",
    "#todos os usuarios que ligaram para o callcenter mais de 4x cancelaram \n",
    "    # criar um processo quando um usuario ligar mais de 4x para o callcenter para tentar reter o usuario\n",
    "\n",
    "# usuarios que atrasaram o pagamento mais de 20 dias cancelaram\n",
    "    # criar um alerta para quando o atraso for maior que 15 dia\n",
    "\n",
    "#duracao_contrato -> difernte de mensal\n",
    "tabela = tabela[tabela[\"duracao_contrato\"]!=\"Monthly\"]\n",
    "\n",
    "# ligacoes_de_callcenter -> menor ou igual a 4\n",
    "\n",
    "tabela = tabela[tabela[\"ligacoes_callcenter\"]<= 4]\n",
    "\n",
    "# atraso_pagamento = <= 20 dias\n",
    "\n",
    "tabela = tabela[tabela[\"dias_atraso\"]<= 20]\n",
    "\n",
    "display(tabela[\"cancelou\"].value_counts(normalize=True))\n",
    "\n"
   ]
  }
 ],
 "metadata": {
  "kernelspec": {
   "display_name": "Python 3",
   "language": "python",
   "name": "python3"
  },
  "language_info": {
   "codemirror_mode": {
    "name": "ipython",
    "version": 3
   },
   "file_extension": ".py",
   "mimetype": "text/x-python",
   "name": "python",
   "nbconvert_exporter": "python",
   "pygments_lexer": "ipython3",
   "version": "3.13.1"
  },
  "orig_nbformat": 4
 },
 "nbformat": 4,
 "nbformat_minor": 2
}
